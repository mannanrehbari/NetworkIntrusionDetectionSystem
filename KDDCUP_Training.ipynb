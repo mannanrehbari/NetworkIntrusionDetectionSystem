{
 "cells": [
  {
   "cell_type": "code",
   "execution_count": 1,
   "metadata": {},
   "outputs": [],
   "source": [
    "# !pip install scikeras"
   ]
  },
  {
   "cell_type": "code",
   "execution_count": 43,
   "metadata": {},
   "outputs": [],
   "source": [
    "import pandas as pd\n",
    "import numpy as np\n",
    "from sklearn.model_selection import train_test_split\n",
    "from sklearn.preprocessing import MinMaxScaler\n",
    "from matplotlib import pyplot as plt"
   ]
  },
  {
   "cell_type": "code",
   "execution_count": 3,
   "metadata": {},
   "outputs": [],
   "source": [
    "df_kdd = pd.read_pickle(\"./data/KDDCUP/KDDCUP_DF_Preprocessed.pkl\")"
   ]
  },
  {
   "cell_type": "code",
   "execution_count": 4,
   "metadata": {},
   "outputs": [],
   "source": [
    "y = df_kdd[['Attack Type']]\n",
    "X = df_kdd.drop(columns=['Attack Type'], axis=1)"
   ]
  },
  {
   "cell_type": "code",
   "execution_count": 6,
   "metadata": {},
   "outputs": [],
   "source": [
    "sc = MinMaxScaler()\n",
    "X = sc.fit_transform(X)"
   ]
  },
  {
   "cell_type": "code",
   "execution_count": 7,
   "metadata": {},
   "outputs": [],
   "source": [
    "X_train, X_test, y_train, y_test = train_test_split(X, y, test_size=0.2, random_state=30)"
   ]
  },
  {
   "cell_type": "code",
   "execution_count": 8,
   "metadata": {},
   "outputs": [
    {
     "name": "stdout",
     "output_type": "stream",
     "text": [
      "X_train shape: (395216, 39) X_test shape (98805, 39) \n",
      "y_train shape: (395216, 1) y_test shape (98805, 1) \n"
     ]
    }
   ],
   "source": [
    "print(\"X_train shape: {} X_test shape {} \".format(X_train.shape, X_test.shape))\n",
    "print(\"y_train shape: {} y_test shape {} \".format(y_train.shape, y_test.shape))"
   ]
  },
  {
   "cell_type": "code",
   "execution_count": 9,
   "metadata": {},
   "outputs": [],
   "source": [
    "from sklearn.naive_bayes import GaussianNB\n",
    "from sklearn.ensemble import RandomForestClassifier\n",
    "import time"
   ]
  },
  {
   "cell_type": "code",
   "execution_count": 10,
   "metadata": {},
   "outputs": [
    {
     "name": "stdout",
     "output_type": "stream",
     "text": [
      "Training time:  0.3068559169769287\n"
     ]
    }
   ],
   "source": [
    "gnb = GaussianNB()\n",
    "start_time = time.time()\n",
    "gnb.fit(X_train, y_train.values.ravel())\n",
    "end_time = time.time()\n",
    "print(\"Training time: \", end_time - start_time)"
   ]
  },
  {
   "cell_type": "code",
   "execution_count": 11,
   "metadata": {},
   "outputs": [
    {
     "name": "stdout",
     "output_type": "stream",
     "text": [
      "Train score:  0.9854838872920124\n",
      "Test score:  0.9854359597186377\n"
     ]
    }
   ],
   "source": [
    "print(\"Train score: \", gnb.score(X_train, y_train))\n",
    "print(\"Test score: \", gnb.score(X_test, y_test))"
   ]
  },
  {
   "cell_type": "code",
   "execution_count": 12,
   "metadata": {},
   "outputs": [
    {
     "name": "stdout",
     "output_type": "stream",
     "text": [
      "Training time:  5.629163980484009\n"
     ]
    }
   ],
   "source": [
    "rfc = RandomForestClassifier(n_estimators=20)\n",
    "start_time = time.time()\n",
    "rfc.fit(X_train, y_train.values.ravel())\n",
    "end_time = time.time()\n",
    "print(\"Training time: \", end_time - start_time)"
   ]
  },
  {
   "cell_type": "code",
   "execution_count": 13,
   "metadata": {},
   "outputs": [
    {
     "name": "stdout",
     "output_type": "stream",
     "text": [
      "Train score:  0.9999772276426055\n",
      "Test score:  0.9997672182581853\n"
     ]
    }
   ],
   "source": [
    "print(\"Train score: \", rfc.score(X_train, y_train))\n",
    "print(\"Test score: \", rfc.score(X_test, y_test))"
   ]
  },
  {
   "cell_type": "code",
   "execution_count": 14,
   "metadata": {},
   "outputs": [
    {
     "name": "stderr",
     "output_type": "stream",
     "text": [
      "2024-04-22 18:47:11.697814: I tensorflow/core/platform/cpu_feature_guard.cc:210] This TensorFlow binary is optimized to use available CPU instructions in performance-critical operations.\n",
      "To enable the following instructions: AVX2 FMA, in other operations, rebuild TensorFlow with the appropriate compiler flags.\n"
     ]
    }
   ],
   "source": [
    "import tensorflow as tf\n",
    "from tensorflow.keras.models import Sequential\n",
    "from tensorflow.keras.layers import Dense, LSTM, Input\n",
    "from sklearn.metrics import accuracy_score"
   ]
  },
  {
   "cell_type": "code",
   "execution_count": 15,
   "metadata": {},
   "outputs": [],
   "source": [
    "model = Sequential([\n",
    "    Input(shape=(39,)),  # Explicit input layer specifying the input shape\n",
    "    Dense(64, activation='relu'),  # First hidden layer\n",
    "    Dense(32, activation='relu'),  # Second hidden layer\n",
    "    Dense(1, activation='sigmoid')  # Output layer for binary classification\n",
    "])"
   ]
  },
  {
   "cell_type": "code",
   "execution_count": 16,
   "metadata": {},
   "outputs": [],
   "source": [
    "model.compile(optimizer='adam',\n",
    "              loss='binary_crossentropy',\n",
    "              metrics=['accuracy'])"
   ]
  },
  {
   "cell_type": "code",
   "execution_count": 17,
   "metadata": {},
   "outputs": [
    {
     "name": "stdout",
     "output_type": "stream",
     "text": [
      "Epoch 1/10\n",
      "\u001b[1m4941/4941\u001b[0m \u001b[32m━━━━━━━━━━━━━━━━━━━━\u001b[0m\u001b[37m\u001b[0m \u001b[1m6s\u001b[0m 1ms/step - accuracy: 0.9863 - loss: 0.0449 - val_accuracy: 0.9984 - val_loss: 0.0059\n",
      "Epoch 2/10\n",
      "\u001b[1m4941/4941\u001b[0m \u001b[32m━━━━━━━━━━━━━━━━━━━━\u001b[0m\u001b[37m\u001b[0m \u001b[1m5s\u001b[0m 1ms/step - accuracy: 0.9988 - loss: 0.0049 - val_accuracy: 0.9989 - val_loss: 0.0038\n",
      "Epoch 3/10\n",
      "\u001b[1m4941/4941\u001b[0m \u001b[32m━━━━━━━━━━━━━━━━━━━━\u001b[0m\u001b[37m\u001b[0m \u001b[1m5s\u001b[0m 1ms/step - accuracy: 0.9990 - loss: 0.0037 - val_accuracy: 0.9991 - val_loss: 0.0034\n",
      "Epoch 4/10\n",
      "\u001b[1m4941/4941\u001b[0m \u001b[32m━━━━━━━━━━━━━━━━━━━━\u001b[0m\u001b[37m\u001b[0m \u001b[1m5s\u001b[0m 1ms/step - accuracy: 0.9992 - loss: 0.0029 - val_accuracy: 0.9992 - val_loss: 0.0028\n",
      "Epoch 5/10\n",
      "\u001b[1m4941/4941\u001b[0m \u001b[32m━━━━━━━━━━━━━━━━━━━━\u001b[0m\u001b[37m\u001b[0m \u001b[1m5s\u001b[0m 1ms/step - accuracy: 0.9991 - loss: 0.0029 - val_accuracy: 0.9993 - val_loss: 0.0029\n",
      "Epoch 6/10\n",
      "\u001b[1m4941/4941\u001b[0m \u001b[32m━━━━━━━━━━━━━━━━━━━━\u001b[0m\u001b[37m\u001b[0m \u001b[1m5s\u001b[0m 1ms/step - accuracy: 0.9993 - loss: 0.0024 - val_accuracy: 0.9993 - val_loss: 0.0026\n",
      "Epoch 7/10\n",
      "\u001b[1m4941/4941\u001b[0m \u001b[32m━━━━━━━━━━━━━━━━━━━━\u001b[0m\u001b[37m\u001b[0m \u001b[1m5s\u001b[0m 1ms/step - accuracy: 0.9993 - loss: 0.0025 - val_accuracy: 0.9993 - val_loss: 0.0025\n",
      "Epoch 8/10\n",
      "\u001b[1m4941/4941\u001b[0m \u001b[32m━━━━━━━━━━━━━━━━━━━━\u001b[0m\u001b[37m\u001b[0m \u001b[1m5s\u001b[0m 1ms/step - accuracy: 0.9994 - loss: 0.0022 - val_accuracy: 0.9993 - val_loss: 0.0026\n",
      "Epoch 9/10\n",
      "\u001b[1m4941/4941\u001b[0m \u001b[32m━━━━━━━━━━━━━━━━━━━━\u001b[0m\u001b[37m\u001b[0m \u001b[1m5s\u001b[0m 1ms/step - accuracy: 0.9994 - loss: 0.0019 - val_accuracy: 0.9993 - val_loss: 0.0025\n",
      "Epoch 10/10\n",
      "\u001b[1m4941/4941\u001b[0m \u001b[32m━━━━━━━━━━━━━━━━━━━━\u001b[0m\u001b[37m\u001b[0m \u001b[1m5s\u001b[0m 1ms/step - accuracy: 0.9994 - loss: 0.0019 - val_accuracy: 0.9993 - val_loss: 0.0027\n"
     ]
    },
    {
     "data": {
      "text/plain": [
       "<keras.src.callbacks.history.History at 0x15b79cb20>"
      ]
     },
     "execution_count": 17,
     "metadata": {},
     "output_type": "execute_result"
    }
   ],
   "source": [
    "model.fit(X_train, y_train,\n",
    "                    epochs=10,\n",
    "                    batch_size=64,\n",
    "                    validation_split=0.2)  # Use 20% of the training data for validation purposes"
   ]
  },
  {
   "cell_type": "code",
   "execution_count": 18,
   "metadata": {},
   "outputs": [
    {
     "name": "stdout",
     "output_type": "stream",
     "text": [
      "\u001b[1m3088/3088\u001b[0m \u001b[32m━━━━━━━━━━━━━━━━━━━━\u001b[0m\u001b[37m\u001b[0m \u001b[1m2s\u001b[0m 676us/step\n"
     ]
    },
    {
     "data": {
      "text/plain": [
       "0.9991700824857042"
      ]
     },
     "execution_count": 18,
     "metadata": {},
     "output_type": "execute_result"
    }
   ],
   "source": [
    "start_time = time.time()\n",
    "y_predict = model.predict(X_test)\n",
    "y_pred_binary = (y_predict > 0.5).astype(int)\n",
    "end_time = time.time()\n",
    "accuracy_score(y_test, y_pred_binary)"
   ]
  },
  {
   "cell_type": "code",
   "execution_count": 45,
   "metadata": {},
   "outputs": [],
   "source": [
    "def create_sequences(data, seq_length):\n",
    "    xs = []\n",
    "    for i in range(len(data) - seq_length + 1):\n",
    "        x = data[i:(i + seq_length)]\n",
    "        xs.append(x)\n",
    "    return np.array(xs)"
   ]
  },
  {
   "cell_type": "code",
   "execution_count": 46,
   "metadata": {},
   "outputs": [],
   "source": [
    "seq_length = 20  # Specify your sequence length here\n",
    "\n",
    "X_train_seq = create_sequences(X_train, seq_length)\n",
    "X_test_seq = create_sequences(X_test, seq_length)\n",
    "\n",
    "X_train_seq = X_train_seq.reshape((-1, seq_length, X_train.shape[1]))\n",
    "X_test_seq = X_test_seq.reshape((-1, seq_length, X_test.shape[1]))\n",
    "\n",
    "y_train_seq = y_train[seq_length - 1:]\n",
    "y_test_seq = y_test[seq_length - 1:]"
   ]
  },
  {
   "cell_type": "code",
   "execution_count": 47,
   "metadata": {},
   "outputs": [
    {
     "name": "stderr",
     "output_type": "stream",
     "text": [
      "/Users/mannanrehbari/Library/Python/3.9/lib/python/site-packages/keras/src/layers/rnn/rnn.py:204: UserWarning: Do not pass an `input_shape`/`input_dim` argument to a layer. When using Sequential models, prefer using an `Input(shape)` object as the first layer in the model instead.\n",
      "  super().__init__(**kwargs)\n"
     ]
    }
   ],
   "source": [
    "model_lstm = Sequential([\n",
    "    LSTM(50, input_shape=(seq_length, X_train.shape[1])),\n",
    "    Dense(1, activation='sigmoid')\n",
    "])"
   ]
  },
  {
   "cell_type": "code",
   "execution_count": 48,
   "metadata": {},
   "outputs": [],
   "source": [
    "model_lstm.compile(optimizer='adam', loss='binary_crossentropy', metrics=['accuracy'])"
   ]
  },
  {
   "cell_type": "code",
   "execution_count": 49,
   "metadata": {},
   "outputs": [
    {
     "name": "stdout",
     "output_type": "stream",
     "text": [
      "Epoch 1/20\n",
      "\u001b[1m4940/4940\u001b[0m \u001b[32m━━━━━━━━━━━━━━━━━━━━\u001b[0m\u001b[37m\u001b[0m \u001b[1m33s\u001b[0m 7ms/step - accuracy: 0.9696 - loss: 0.0829 - val_accuracy: 0.9935 - val_loss: 0.0188\n",
      "Epoch 2/20\n",
      "\u001b[1m4940/4940\u001b[0m \u001b[32m━━━━━━━━━━━━━━━━━━━━\u001b[0m\u001b[37m\u001b[0m \u001b[1m32s\u001b[0m 6ms/step - accuracy: 0.9944 - loss: 0.0166 - val_accuracy: 0.9969 - val_loss: 0.0096\n",
      "Epoch 3/20\n",
      "\u001b[1m4940/4940\u001b[0m \u001b[32m━━━━━━━━━━━━━━━━━━━━\u001b[0m\u001b[37m\u001b[0m \u001b[1m31s\u001b[0m 6ms/step - accuracy: 0.9980 - loss: 0.0081 - val_accuracy: 0.9979 - val_loss: 0.0071\n",
      "Epoch 4/20\n",
      "\u001b[1m4940/4940\u001b[0m \u001b[32m━━━━━━━━━━━━━━━━━━━━\u001b[0m\u001b[37m\u001b[0m \u001b[1m32s\u001b[0m 6ms/step - accuracy: 0.9985 - loss: 0.0061 - val_accuracy: 0.9987 - val_loss: 0.0052\n",
      "Epoch 5/20\n",
      "\u001b[1m4940/4940\u001b[0m \u001b[32m━━━━━━━━━━━━━━━━━━━━\u001b[0m\u001b[37m\u001b[0m \u001b[1m33s\u001b[0m 7ms/step - accuracy: 0.9987 - loss: 0.0048 - val_accuracy: 0.9984 - val_loss: 0.0054\n",
      "Epoch 6/20\n",
      "\u001b[1m4940/4940\u001b[0m \u001b[32m━━━━━━━━━━━━━━━━━━━━\u001b[0m\u001b[37m\u001b[0m \u001b[1m33s\u001b[0m 7ms/step - accuracy: 0.9988 - loss: 0.0043 - val_accuracy: 0.9987 - val_loss: 0.0045\n",
      "Epoch 7/20\n",
      "\u001b[1m4940/4940\u001b[0m \u001b[32m━━━━━━━━━━━━━━━━━━━━\u001b[0m\u001b[37m\u001b[0m \u001b[1m33s\u001b[0m 7ms/step - accuracy: 0.9989 - loss: 0.0040 - val_accuracy: 0.9985 - val_loss: 0.0047\n",
      "Epoch 8/20\n",
      "\u001b[1m4940/4940\u001b[0m \u001b[32m━━━━━━━━━━━━━━━━━━━━\u001b[0m\u001b[37m\u001b[0m \u001b[1m33s\u001b[0m 7ms/step - accuracy: 0.9990 - loss: 0.0037 - val_accuracy: 0.9990 - val_loss: 0.0039\n",
      "Epoch 9/20\n",
      "\u001b[1m4940/4940\u001b[0m \u001b[32m━━━━━━━━━━━━━━━━━━━━\u001b[0m\u001b[37m\u001b[0m \u001b[1m33s\u001b[0m 7ms/step - accuracy: 0.9990 - loss: 0.0033 - val_accuracy: 0.9990 - val_loss: 0.0038\n",
      "Epoch 10/20\n",
      "\u001b[1m4940/4940\u001b[0m \u001b[32m━━━━━━━━━━━━━━━━━━━━\u001b[0m\u001b[37m\u001b[0m \u001b[1m33s\u001b[0m 7ms/step - accuracy: 0.9991 - loss: 0.0032 - val_accuracy: 0.9989 - val_loss: 0.0040\n",
      "Epoch 11/20\n",
      "\u001b[1m4940/4940\u001b[0m \u001b[32m━━━━━━━━━━━━━━━━━━━━\u001b[0m\u001b[37m\u001b[0m \u001b[1m35s\u001b[0m 7ms/step - accuracy: 0.9992 - loss: 0.0029 - val_accuracy: 0.9989 - val_loss: 0.0036\n",
      "Epoch 12/20\n",
      "\u001b[1m4940/4940\u001b[0m \u001b[32m━━━━━━━━━━━━━━━━━━━━\u001b[0m\u001b[37m\u001b[0m \u001b[1m33s\u001b[0m 7ms/step - accuracy: 0.9991 - loss: 0.0029 - val_accuracy: 0.9990 - val_loss: 0.0038\n",
      "Epoch 13/20\n",
      "\u001b[1m4940/4940\u001b[0m \u001b[32m━━━━━━━━━━━━━━━━━━━━\u001b[0m\u001b[37m\u001b[0m \u001b[1m33s\u001b[0m 7ms/step - accuracy: 0.9993 - loss: 0.0024 - val_accuracy: 0.9987 - val_loss: 0.0041\n",
      "Epoch 14/20\n",
      "\u001b[1m4940/4940\u001b[0m \u001b[32m━━━━━━━━━━━━━━━━━━━━\u001b[0m\u001b[37m\u001b[0m \u001b[1m33s\u001b[0m 7ms/step - accuracy: 0.9993 - loss: 0.0022 - val_accuracy: 0.9988 - val_loss: 0.0041\n",
      "Epoch 15/20\n",
      "\u001b[1m4940/4940\u001b[0m \u001b[32m━━━━━━━━━━━━━━━━━━━━\u001b[0m\u001b[37m\u001b[0m \u001b[1m33s\u001b[0m 7ms/step - accuracy: 0.9994 - loss: 0.0022 - val_accuracy: 0.9991 - val_loss: 0.0037\n",
      "Epoch 16/20\n",
      "\u001b[1m4940/4940\u001b[0m \u001b[32m━━━━━━━━━━━━━━━━━━━━\u001b[0m\u001b[37m\u001b[0m \u001b[1m33s\u001b[0m 7ms/step - accuracy: 0.9996 - loss: 0.0016 - val_accuracy: 0.9989 - val_loss: 0.0038\n",
      "Epoch 17/20\n",
      "\u001b[1m4940/4940\u001b[0m \u001b[32m━━━━━━━━━━━━━━━━━━━━\u001b[0m\u001b[37m\u001b[0m \u001b[1m33s\u001b[0m 7ms/step - accuracy: 0.9996 - loss: 0.0016 - val_accuracy: 0.9991 - val_loss: 0.0036\n",
      "Epoch 18/20\n",
      "\u001b[1m4940/4940\u001b[0m \u001b[32m━━━━━━━━━━━━━━━━━━━━\u001b[0m\u001b[37m\u001b[0m \u001b[1m33s\u001b[0m 7ms/step - accuracy: 0.9996 - loss: 0.0015 - val_accuracy: 0.9990 - val_loss: 0.0038\n",
      "Epoch 19/20\n",
      "\u001b[1m4940/4940\u001b[0m \u001b[32m━━━━━━━━━━━━━━━━━━━━\u001b[0m\u001b[37m\u001b[0m \u001b[1m33s\u001b[0m 7ms/step - accuracy: 0.9996 - loss: 0.0014 - val_accuracy: 0.9989 - val_loss: 0.0041\n",
      "Epoch 20/20\n",
      "\u001b[1m4940/4940\u001b[0m \u001b[32m━━━━━━━━━━━━━━━━━━━━\u001b[0m\u001b[37m\u001b[0m \u001b[1m33s\u001b[0m 7ms/step - accuracy: 0.9997 - loss: 0.0011 - val_accuracy: 0.9990 - val_loss: 0.0039\n"
     ]
    }
   ],
   "source": [
    "history = model_lstm.fit(X_train_seq, y_train_seq, epochs=20, batch_size=64, validation_split=0.2)"
   ]
  },
  {
   "cell_type": "code",
   "execution_count": 50,
   "metadata": {},
   "outputs": [
    {
     "name": "stdout",
     "output_type": "stream",
     "text": [
      "\u001b[1m3088/3088\u001b[0m \u001b[32m━━━━━━━━━━━━━━━━━━━━\u001b[0m\u001b[37m\u001b[0m \u001b[1m6s\u001b[0m 2ms/step - accuracy: 0.9989 - loss: 0.0040\n",
      "Test Accuracy: 0.9990%\n"
     ]
    }
   ],
   "source": [
    "test_loss, test_acc = model_lstm.evaluate(X_test_seq, y_test_seq)\n",
    "print(f\"Test Accuracy: {test_acc:.4f}%\")"
   ]
  },
  {
   "cell_type": "code",
   "execution_count": 51,
   "metadata": {},
   "outputs": [
    {
     "name": "stdout",
     "output_type": "stream",
     "text": [
      "dict_keys(['accuracy', 'loss', 'val_accuracy', 'val_loss'])\n"
     ]
    }
   ],
   "source": [
    "print(history.history.keys())"
   ]
  },
  {
   "cell_type": "code",
   "execution_count": 52,
   "metadata": {},
   "outputs": [],
   "source": [
    "def plot_lstm(history):\n",
    "    \n",
    "    acc = history.history['accuracy']\n",
    "    val_acc = history.history['val_accuracy']\n",
    "    loss = history.history['loss']\n",
    "    val_loss = history.history['val_loss']\n",
    "    epochs = range(1, len(acc) + 1)\n",
    "\n",
    "    # Plotting training and validation accuracy\n",
    "    plt.figure(figsize=(12, 6))\n",
    "    plt.subplot(1, 2, 1)\n",
    "    plt.plot(epochs, acc, 'bo-', label='Training accuracy')\n",
    "    plt.plot(epochs, val_acc, 'gs-', label='Validation accuracy')\n",
    "    plt.title('Training and Validation Accuracy')\n",
    "    plt.xlabel('Epochs')\n",
    "    plt.ylabel('Accuracy')\n",
    "    plt.legend()\n",
    "\n",
    "    # Plotting training and validation loss\n",
    "    plt.subplot(1, 2, 2)\n",
    "    plt.plot(epochs, loss, 'bo-', label='Training loss')\n",
    "    plt.plot(epochs, val_loss, 'gs-', label='Validation loss')\n",
    "    plt.title('Training and Validation Loss')\n",
    "    plt.xlabel('Epochs')\n",
    "    plt.ylabel('Loss')\n",
    "    plt.legend()\n",
    "\n",
    "    plt.tight_layout()\n",
    "    plt.show()"
   ]
  },
  {
   "cell_type": "code",
   "execution_count": 53,
   "metadata": {},
   "outputs": [
    {
     "data": {
      "image/png": "[encoded data removed]",
      "text/plain": [
       "<Figure size 1200x600 with 2 Axes>"
      ]
     },
     "metadata": {},
     "output_type": "display_data"
    }
   ],
   "source": [
    "plot_lstm(history)"
   ]
  },
  {
   "cell_type": "code",
   "execution_count": 56,
   "metadata": {},
   "outputs": [],
   "source": [
    "model_lstm.save(\"./data/KDDCUP/KDDCUP_LSTM.keras\")"
   ]
  }
 ],
 "metadata": {
  "kernelspec": {
   "display_name": "Python 3",
   "language": "python",
   "name": "python3"
  },
  "language_info": {
   "codemirror_mode": {
    "name": "ipython",
    "version": 3
   },
   "file_extension": ".py",
   "mimetype": "text/x-python",
   "name": "python",
   "nbconvert_exporter": "python",
   "pygments_lexer": "ipython3",
   "version": "3.9.6"
  }
 },
 "nbformat": 4,
 "nbformat_minor": 2
}
