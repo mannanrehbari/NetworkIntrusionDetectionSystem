{
 "cells": [
  {
   "cell_type": "code",
   "execution_count": null,
   "metadata": {},
   "outputs": [],
   "source": [
    "from tensorflow.keras.models import load_model\n",
    "from kafka import KafkaConsumer\n",
    "from joblib import load\n",
    "import numpy as np\n",
    "import time"
   ]
  },
  {
   "cell_type": "code",
   "execution_count": null,
   "metadata": {},
   "outputs": [],
   "source": [
    "model_lstm = load_model('./models/kdd_model_lstm.keras')"
   ]
  },
  {
   "cell_type": "code",
   "execution_count": null,
   "metadata": {},
   "outputs": [],
   "source": [
    "model_gnb = load('./models/kdd_model_gnb.joblib')"
   ]
  },
  {
   "cell_type": "code",
   "execution_count": null,
   "metadata": {},
   "outputs": [],
   "source": [
    "def create_sequences(data, seq_length=1):\n",
    "    xs = []\n",
    "    dataLen = 40\n",
    "    for i in range(dataLen - seq_length + 1):\n",
    "        x = data[i:(i + seq_length)]\n",
    "        xs.append(x)\n",
    "    return np.array(xs)"
   ]
  },
  {
   "cell_type": "code",
   "execution_count": null,
   "metadata": {},
   "outputs": [],
   "source": [
    "class PredictionModel:\n",
    "    def __init__(self, model):\n",
    "        self.model = model\n",
    "        self.correct = 0\n",
    "        self.total = 0\n",
    "        \n",
    "    def predict_GNB(self, data):\n",
    "        dataList = data.split(',')\n",
    "        dataNumeric = np.array(dataList, dtype=float)\n",
    "        label = dataNumeric[-1]\n",
    "        features = dataNumeric[:-1]\n",
    "        prediction = self.model.predict(features.reshape(1, -1))\n",
    "        self.total += 1        \n",
    "        print('Time: {} Total predictions: {}'.format(time.time(), self.total))\n",
    "        return prediction\n",
    "\n",
    "    def predict_LSTM(self, data):\n",
    "        dataList = data.split(',')\n",
    "        dataNumeric = np.array(dataList, dtype=float)\n",
    "        label = dataNumeric[-1]\n",
    "        features = dataNumeric[:-1]\n",
    "        features = features.reshape((1, 1, 40))\n",
    "        prediction = self.model.predict(features)\n",
    "        self.total += 1        \n",
    "        print('Time: {} Total predictions: {}'.format(time.time(), self.total))\n",
    "        return prediction"
   ]
  },
  {
   "cell_type": "code",
   "execution_count": null,
   "metadata": {},
   "outputs": [],
   "source": [
    "class RealTimePredictor:\n",
    "    def __init__(self, model, topic, brokers):\n",
    "        self.consumer = KafkaConsumer(\n",
    "            topic,\n",
    "            bootstrap_servers=brokers,\n",
    "            auto_offset_reset='earliest',  # Start reading at the earliest message\n",
    "            value_deserializer=lambda x: x.decode('utf-8')  # Deserialize messages as UTF-8 encoded strings\n",
    "        )\n",
    "        self.model = model\n",
    "        \n",
    "    def consume_messages_lstm(self):\n",
    "        for message in self.consumer:\n",
    "            data = message.value\n",
    "            prediction = self.model.predict_LSTM(data)\n",
    "    \n",
    "    def consume_messages_gnb(self):\n",
    "        for message in self.consumer:\n",
    "            data = message.value\n",
    "            prediction = self.model.predict_GNB(data)"
   ]
  },
  {
   "cell_type": "code",
   "execution_count": null,
   "metadata": {},
   "outputs": [],
   "source": [
    "topic = \"streamOut25A\"\n",
    "brokers = \"localhost:9092\"\n",
    "\n",
    "lstm = PredictionModel(model_lstm)\n",
    "gnb = PredictionModel(model_gnb)"
   ]
  },
  {
   "cell_type": "code",
   "execution_count": null,
   "metadata": {},
   "outputs": [],
   "source": [
    "kafkaConsumerGNB = RealTimePredictor(gnb, topic, brokers)\n",
    "kafkaConsumerGNB.consume_messages_gnb()"
   ]
  },
  {
   "cell_type": "code",
   "execution_count": null,
   "metadata": {},
   "outputs": [],
   "source": [
    "print(\"GNB took: \" )"
   ]
  },
  {
   "cell_type": "code",
   "execution_count": null,
   "metadata": {},
   "outputs": [],
   "source": [
    "kafkaConsumerLSTM = RealTimePredictor(lstm, topic, brokers)\n",
    "kafkaConsumerLSTM.consume_messages_lstm()"
   ]
  }
 ],
 "metadata": {
  "kernelspec": {
   "display_name": "Python 3",
   "language": "python",
   "name": "python3"
  },
  "language_info": {
   "codemirror_mode": {
    "name": "ipython",
    "version": 3
   },
   "file_extension": ".py",
   "mimetype": "text/x-python",
   "name": "python",
   "nbconvert_exporter": "python",
   "pygments_lexer": "ipython3",
   "version": "3.9.6"
  }
 },
 "nbformat": 4,
 "nbformat_minor": 2
}
