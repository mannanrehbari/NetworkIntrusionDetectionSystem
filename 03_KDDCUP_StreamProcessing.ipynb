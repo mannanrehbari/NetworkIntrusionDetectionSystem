{
 "cells": [
  {
   "cell_type": "code",
   "execution_count": 1,
   "metadata": {},
   "outputs": [
    {
     "name": "stderr",
     "output_type": "stream",
     "text": [
      "2024-04-27 14:30:48.210418: I tensorflow/core/platform/cpu_feature_guard.cc:210] This TensorFlow binary is optimized to use available CPU instructions in performance-critical operations.\n",
      "To enable the following instructions: AVX2 FMA, in other operations, rebuild TensorFlow with the appropriate compiler flags.\n"
     ]
    }
   ],
   "source": [
    "from tensorflow.keras.models import load_model\n",
    "import tensorflow as tf\n",
    "import logging\n",
    "from kafka import KafkaConsumer\n",
    "from joblib import load\n",
    "import numpy as np\n",
    "import time\n",
    "from pprint import pprint\n",
    "import matplotlib.pyplot as plt"
   ]
  },
  {
   "cell_type": "code",
   "execution_count": 2,
   "metadata": {},
   "outputs": [],
   "source": [
    "tf.get_logger().setLevel(logging.ERROR)"
   ]
  },
  {
   "cell_type": "code",
   "execution_count": 3,
   "metadata": {},
   "outputs": [],
   "source": [
    "model_lstm = load_model('./models/kdd_model_lstm.keras')"
   ]
  },
  {
   "cell_type": "code",
   "execution_count": 4,
   "metadata": {},
   "outputs": [],
   "source": [
    "model_gnb = load('./models/kdd_model_gnb.joblib')"
   ]
  },
  {
   "cell_type": "code",
   "execution_count": 5,
   "metadata": {},
   "outputs": [],
   "source": [
    "model_rfc = load('./models/kdd_model_rfc.joblib')"
   ]
  },
  {
   "cell_type": "code",
   "execution_count": 6,
   "metadata": {},
   "outputs": [],
   "source": [
    "class PredictionModel:\n",
    "    def __init__(self, model):\n",
    "        self.model = model\n",
    "        \n",
    "    def predict_LSTM(self, batch_data):\n",
    "        prediction = self.model.predict(batch_data, verbose=0)\n",
    "        return prediction\n",
    "    \n",
    "    def predict_ML_Methods(self, batch_data):\n",
    "        prediction = self.model.predict(batch_data)\n",
    "        return prediction"
   ]
  },
  {
   "cell_type": "code",
   "execution_count": 7,
   "metadata": {},
   "outputs": [],
   "source": [
    "class RealTimePredictor:\n",
    "    def __init__(self, model, topic, brokers, model_type):\n",
    "        self.consumer = KafkaConsumer(\n",
    "            topic,\n",
    "            bootstrap_servers=brokers,\n",
    "            auto_offset_reset='earliest', \n",
    "            value_deserializer=lambda x: x.decode('utf-8')  \n",
    "        )\n",
    "        self.model = model\n",
    "        self.totalCount = 0\n",
    "        self.maxCount = 98805\n",
    "        self.model_type = model_type\n",
    "        \n",
    "    def consume_and_predict(self, kafka_batch_size):\n",
    "        self.kafka_batch_size = kafka_batch_size\n",
    "        if self.model_type == 'LSTM':\n",
    "            self.consume_messages_lstm()\n",
    "        elif self.model_type == 'ML_Methods':\n",
    "            self.consume_messages_ML_Methods()\n",
    "        \n",
    "    def consume_messages_lstm(self):\n",
    "        try:\n",
    "            batch_data = []\n",
    "            start_time = time.time()\n",
    "            \n",
    "            for message in self.consumer:\n",
    "                data = message.value\n",
    "                dataList = data.split(',')\n",
    "                dataNumeric = np.array(dataList, dtype=float)\n",
    "                features = dataNumeric[:-1]\n",
    "                features = features.reshape((1, 40))\n",
    "                self.totalCount += 1\n",
    "                batch_data.append(features)\n",
    "                \n",
    "                if len(batch_data) == self.kafka_batch_size:\n",
    "                    batch_data = np.array(batch_data)\n",
    "                    predictions = self.model.predict_LSTM(batch_data)\n",
    "                    batch_data = []\n",
    "                \n",
    "                if self.totalCount >= self.maxCount:\n",
    "                    break\n",
    "                \n",
    "            if batch_data:\n",
    "                batch_data = np.array(batch_data)\n",
    "                predictions = self.model.predict_LSTM(batch_data)\n",
    "                batch_data = []\n",
    "            end_time = time.time()\n",
    "            print('Processed {} test items'.format(self.totalCount))\n",
    "        finally:\n",
    "            self.consumer.close()\n",
    "\n",
    "    def consume_messages_ML_Methods(self):\n",
    "        try:\n",
    "            batch_data = []\n",
    "            start_time = time.time()\n",
    "            \n",
    "            for message in self.consumer:\n",
    "                data = message.value\n",
    "                dataList = data.split(',')\n",
    "                dataNumeric = np.array(dataList, dtype=float)\n",
    "                features = dataNumeric[:-1]\n",
    "                self.totalCount += 1\n",
    "                batch_data.append(features)\n",
    "                \n",
    "                if len(batch_data) == self.kafka_batch_size:\n",
    "                    batch_data = np.array(batch_data)\n",
    "                    predictions = self.model.predict_ML_Methods(batch_data)\n",
    "                    batch_data = []\n",
    "                \n",
    "                if self.totalCount >= self.maxCount:\n",
    "                    break\n",
    "                \n",
    "            if batch_data:\n",
    "                batch_data = np.array(batch_data)\n",
    "                predictions = self.model.predict_ML_Methods(batch_data)\n",
    "                batch_data = []\n",
    "            end_time = time.time()\n",
    "            print('Processed {} test items'.format(self.totalCount))\n",
    "        finally:\n",
    "            self.consumer.close()"
   ]
  },
  {
   "cell_type": "code",
   "execution_count": 8,
   "metadata": {},
   "outputs": [],
   "source": [
    "topic = \"streamOut26A\"\n",
    "brokers = \"localhost:9092\"\n",
    "\n",
    "lstm = PredictionModel(model_lstm)\n",
    "gnb = PredictionModel(model_gnb)\n",
    "rfc = PredictionModel(model_rfc)"
   ]
  },
  {
   "cell_type": "code",
   "execution_count": 9,
   "metadata": {},
   "outputs": [],
   "source": [
    "kafka_batch_size_list = [256, 512, 1024, 2048, 4096, 8192, 16384, 32768, 65536]"
   ]
  },
  {
   "cell_type": "code",
   "execution_count": 10,
   "metadata": {},
   "outputs": [],
   "source": [
    "prediction_model_item1 = {\"model\" : lstm, \"name\": \"LSTM\", \"model_type\" : \"LSTM\"}\n",
    "prediction_model_item2 = {\"model\" : gnb, \"name\": \"GNB\", \"model_type\" : \"ML_Methods\"}\n",
    "prediction_model_item3 = {\"model\" : rfc, \"name\": \"RFC\",\"model_type\" : \"ML_Methods\"}\n",
    "prediction_model_list = [prediction_model_item1, prediction_model_item2, prediction_model_item3] "
   ]
  },
  {
   "cell_type": "code",
   "execution_count": 11,
   "metadata": {},
   "outputs": [
    {
     "name": "stdout",
     "output_type": "stream",
     "text": [
      "Processing LSTM \n",
      "Processed 98805 test items\n",
      "Processed 98805 test items\n",
      "Processed 98805 test items\n",
      "Processed 98805 test items\n",
      "Processed 98805 test items\n",
      "Processed 98805 test items\n",
      "Processed 98805 test items\n",
      "Processed 98805 test items\n",
      "Processed 98805 test items\n",
      "Processing GNB \n",
      "Processed 98805 test items\n",
      "Processed 98805 test items\n",
      "Processed 98805 test items\n",
      "Processed 98805 test items\n",
      "Processed 98805 test items\n",
      "Processed 98805 test items\n",
      "Processed 98805 test items\n",
      "Processed 98805 test items\n",
      "Processed 98805 test items\n",
      "Processing RFC \n",
      "Processed 98805 test items\n",
      "Processed 98805 test items\n",
      "Processed 98805 test items\n",
      "Processed 98805 test items\n",
      "Processed 98805 test items\n",
      "Processed 98805 test items\n",
      "Processed 98805 test items\n",
      "Processed 98805 test items\n",
      "Processed 98805 test items\n",
      "{'GNB': [2.4793701171875,\n",
      "         2.4776740074157715,\n",
      "         2.343717336654663,\n",
      "         2.4665579795837402,\n",
      "         2.5161449909210205,\n",
      "         2.2806918621063232,\n",
      "         2.578583002090454,\n",
      "         2.4962191581726074,\n",
      "         2.387279987335205],\n",
      " 'LSTM': [22.217713117599487,\n",
      "          13.930208921432495,\n",
      "          9.799495220184326,\n",
      "          7.784987211227417,\n",
      "          6.706389665603638,\n",
      "          6.057917833328247,\n",
      "          5.735512018203735,\n",
      "          5.665788888931274,\n",
      "          5.86402702331543],\n",
      " 'RFC': [2.8934037685394287,\n",
      "         2.7096710205078125,\n",
      "         2.4481160640716553,\n",
      "         2.4783987998962402,\n",
      "         2.4402897357940674,\n",
      "         2.2742929458618164,\n",
      "         2.4135801792144775,\n",
      "         2.4307432174682617,\n",
      "         2.315432071685791]}\n"
     ]
    }
   ],
   "source": [
    "model_timings = {}\n",
    "for item in prediction_model_list:\n",
    "    \n",
    "    item_model = item[\"model\"]\n",
    "    item_model_name = item[\"name\"]\n",
    "    item_model_type = item[\"model_type\"] \n",
    "    \n",
    "    model_timings[item_model_name] = []\n",
    "    print(\"Processing {} \".format(item_model_name))\n",
    "    \n",
    "    for kafka_batch_size in kafka_batch_size_list:\n",
    "        start_time = time.time()\n",
    "        predictor = RealTimePredictor(item_model, topic, brokers, item_model_type)\n",
    "        predictor.consume_and_predict(kafka_batch_size)\n",
    "        end_time = time.time()\n",
    "        model_timings[item_model_name].append(end_time - start_time)\n",
    "\n",
    "pprint(model_timings)"
   ]
  },
  {
   "cell_type": "code",
   "execution_count": 12,
   "metadata": {},
   "outputs": [],
   "source": [
    "def plot_model_performance(batch_sizes, model_timings):\n",
    "    plt.figure(figsize=(10, 6))\n",
    "    for model, values in model_timings.items():\n",
    "        plt.plot(batch_sizes, values, marker='o', label=model)\n",
    "    \n",
    "    plt.xlabel('Kafka Batch Size')\n",
    "    plt.ylabel('Time (seconds)')\n",
    "    plt.title('Processing Time by Kafka Batch Size and Model')\n",
    "    plt.legend()\n",
    "    plt.grid(True)\n",
    "    plt.xscale('log')\n",
    "    plt.show()"
   ]
  },
  {
   "cell_type": "code",
   "execution_count": 13,
   "metadata": {},
   "outputs": [
    {
     "data": {
      "image/png": "[encoded data removed]",
      "text/plain": [
       "<Figure size 1000x600 with 1 Axes>"
      ]
     },
     "metadata": {},
     "output_type": "display_data"
    }
   ],
   "source": [
    "plot_model_performance(kafka_batch_size_list, model_timings)"
   ]
  }
 ],
 "metadata": {
  "kernelspec": {
   "display_name": "Python 3",
   "language": "python",
   "name": "python3"
  },
  "language_info": {
   "codemirror_mode": {
    "name": "ipython",
    "version": 3
   },
   "file_extension": ".py",
   "mimetype": "text/x-python",
   "name": "python",
   "nbconvert_exporter": "python",
   "pygments_lexer": "ipython3",
   "version": "3.9.6"
  }
 },
 "nbformat": 4,
 "nbformat_minor": 2
}
